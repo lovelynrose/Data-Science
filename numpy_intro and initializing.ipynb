{
  "nbformat": 4,
  "nbformat_minor": 0,
  "metadata": {
    "colab": {
      "provenance": []
    },
    "kernelspec": {
      "name": "python3",
      "display_name": "Python 3"
    },
    "language_info": {
      "name": "python"
    }
  },
  "cells": [
    {
      "cell_type": "markdown",
      "source": [
        "Numerical Python\n",
        "\n",
        "*   ndarray\n",
        "*   Homogeneous\n",
        "*   Multi dimensional array object\n",
        "*   Mathematical operations on arrays and matrices\n",
        "*   Used extensively in Pandas, SciPy, matplotlib, scikit-learn, scikit-image\n",
        "\n",
        "\n",
        "\n"
      ],
      "metadata": {
        "id": "apq9wLtcMazK"
      }
    },
    {
      "cell_type": "markdown",
      "source": [
        "Install numpy"
      ],
      "metadata": {
        "id": "KLhrEeg6MXgE"
      }
    },
    {
      "cell_type": "code",
      "execution_count": 1,
      "metadata": {
        "colab": {
          "base_uri": "https://localhost:8080/"
        },
        "id": "o2QnYTM4MQ66",
        "outputId": "eabde464-d4bc-4c0b-c9be-713a5ea81336"
      },
      "outputs": [
        {
          "output_type": "stream",
          "name": "stdout",
          "text": [
            "Requirement already satisfied: numpy in /usr/local/lib/python3.10/dist-packages (1.23.5)\n"
          ]
        }
      ],
      "source": [
        "!pip install numpy"
      ]
    },
    {
      "cell_type": "code",
      "source": [
        "import numpy as np"
      ],
      "metadata": {
        "id": "mzIl9utaOBcB"
      },
      "execution_count": 2,
      "outputs": []
    },
    {
      "cell_type": "markdown",
      "source": [
        "Vector - Initialize numpy array"
      ],
      "metadata": {
        "id": "5pIkWHm2P9CN"
      }
    },
    {
      "cell_type": "code",
      "source": [
        "x = np.array([1.5,2.7,3.5])\n",
        "print(\"Val : \",x,\"\\nData type of object : \",type(x),\\\n",
        "      \"\\nData type of array elements\",x.dtype , \\\n",
        "      \"\\nShape : \",x.shape,\\\n",
        "      \"\\nSize : \",x.size,\\\n",
        "      \"\\nAxes : \",x.ndim)"
      ],
      "metadata": {
        "colab": {
          "base_uri": "https://localhost:8080/"
        },
        "id": "MjRk_XqPOT_g",
        "outputId": "4ea103ee-56d5-4a42-d726-d836297169e3"
      },
      "execution_count": 24,
      "outputs": [
        {
          "output_type": "stream",
          "name": "stdout",
          "text": [
            "Val :  [1.5 2.7 3.5] \n",
            "Data type of object :  <class 'numpy.ndarray'> \n",
            "Data type of array elements float64 \n",
            "Shape :  (3,) \n",
            "Size :  3 \n",
            "Axes :  1\n"
          ]
        }
      ]
    },
    {
      "cell_type": "markdown",
      "source": [
        "![image.png](data:image/png;base64,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)"
      ],
      "metadata": {
        "id": "zaOkwW3JSl1r"
      }
    },
    {
      "cell_type": "markdown",
      "source": [
        "Matrix - Create 2D array"
      ],
      "metadata": {
        "id": "X5udd6jxQfWl"
      }
    },
    {
      "cell_type": "code",
      "source": [
        "x = np.array([\n",
        "    [1,2,3],\n",
        "     [4,5,6]\n",
        "    ])\n",
        "print(\"Val : \",x,\"\\nData type of object : \",type(x),\\\n",
        "      \"\\nData type of array elements\",x.dtype , \\\n",
        "      \"\\nShape : \",x.shape,\\\n",
        "      \"\\nSize : \",x.size,\\\n",
        "      \"\\nAxes : \",x.ndim)"
      ],
      "metadata": {
        "colab": {
          "base_uri": "https://localhost:8080/"
        },
        "id": "jFKS9qNFQhO3",
        "outputId": "f60781b2-45fb-41a2-f8f3-d7a11784dbde"
      },
      "execution_count": 22,
      "outputs": [
        {
          "output_type": "stream",
          "name": "stdout",
          "text": [
            "Val :  [[1 2 3]\n",
            " [4 5 6]] \n",
            "Data type of object :  <class 'numpy.ndarray'> \n",
            "Data type of array elements int64 \n",
            "Shape :  (2, 3) \n",
            "Size :  6 \n",
            "Axes :  2\n"
          ]
        }
      ]
    },
    {
      "cell_type": "markdown",
      "source": [
        "Functions to create common arrays"
      ],
      "metadata": {
        "id": "tOPedCqxOWZu"
      }
    },
    {
      "cell_type": "code",
      "source": [
        "x = np.arange(10)\n",
        "print(\"Val : \",x,\"\\nData type of object : \",type(x),\\\n",
        "      \"Data type of array elements\",x.dtype , \\\n",
        "      \"\\nShape : \",x.shape)\n",
        "\n",
        "x = np.zeros(4)\n",
        "print(\"\\nVal : \",x,\"\\nData type of object : \",type(x),\\\n",
        "      \"Data type of array elements\",x.dtype , \\\n",
        "      \"\\nShape : \",x.shape)\n",
        "\n",
        "x = np.ones(4)\n",
        "print(\"\\nVal : \",x,\"\\nData type of object : \",type(x),\\\n",
        "      \"Data type of array elements\",x.dtype , \\\n",
        "      \"\\nShape : \",x.shape)\n",
        "\n",
        "# Initial content is random and depends on the state of the memory\n",
        "x = np.empty(4)\n",
        "print(\"\\nVal : \",x,\"\\nData type of object : \",type(x),\\\n",
        "      \"Data type of array elements\",x.dtype , \\\n",
        "      \"\\nShape : \",x.shape)\n"
      ],
      "metadata": {
        "colab": {
          "base_uri": "https://localhost:8080/"
        },
        "id": "qBqLA2UZOEr8",
        "outputId": "46ce879f-4aef-4ab1-94ec-abddbfd276a9"
      },
      "execution_count": 16,
      "outputs": [
        {
          "output_type": "stream",
          "name": "stdout",
          "text": [
            "Val :  [0 1 2 3 4 5 6 7 8 9] \n",
            "Data type of object :  <class 'numpy.ndarray'> Data type of array elements int64 \n",
            "Shape :  (10,)\n",
            "\n",
            "Val :  [0. 0. 0. 0.] \n",
            "Data type of object :  <class 'numpy.ndarray'> Data type of array elements float64 \n",
            "Shape :  (4,)\n",
            "\n",
            "Val :  [1. 1. 1. 1.] \n",
            "Data type of object :  <class 'numpy.ndarray'> Data type of array elements float64 \n",
            "Shape :  (4,)\n",
            "\n",
            "Val :  [1. 1. 1. 1.] \n",
            "Data type of object :  <class 'numpy.ndarray'> Data type of array elements float64 \n",
            "Shape :  (4,)\n"
          ]
        }
      ]
    },
    {
      "cell_type": "code",
      "source": [
        "# Initial content is random and depends on the state of the memory\n",
        "x = np.empty(4,dtype = np.int64)\n",
        "print(\"\\nVal : \",x,\"\\nData type of object : \",type(x),\\\n",
        "      \"Data type of array elements\",x.dtype , \\\n",
        "      \"\\nShape : \",x.shape)"
      ],
      "metadata": {
        "colab": {
          "base_uri": "https://localhost:8080/"
        },
        "id": "lwdLrQ_JUSH3",
        "outputId": "1217e911-67f8-445c-f7af-dd2725fd5564"
      },
      "execution_count": 20,
      "outputs": [
        {
          "output_type": "stream",
          "name": "stdout",
          "text": [
            "\n",
            "Val :  [4607182418800017408 4607182418800017408 4607182418800017408\n",
            " 4607182418800017408] \n",
            "Data type of object :  <class 'numpy.ndarray'> Data type of array elements int64 \n",
            "Shape :  (4,)\n"
          ]
        }
      ]
    },
    {
      "cell_type": "code",
      "source": [
        "x = np.arange(1,10,3)\n",
        "print(\"Val : \",x,\"\\nData type of object : \",type(x),\\\n",
        "      \"Data type of array elements\",x.dtype , \\\n",
        "      \"\\nShape : \",x.shape)\n",
        "\n",
        "x = np.linspace(1,10,num=5)\n",
        "print(\"\\nVal : \",x,\"\\nData type of object : \",type(x),\\\n",
        "      \"Data type of array elements\",x.dtype , \\\n",
        "      \"\\nShape : \",x.shape)"
      ],
      "metadata": {
        "colab": {
          "base_uri": "https://localhost:8080/"
        },
        "id": "uaGUWfRyTmxD",
        "outputId": "38792288-1aa7-4996-ee8a-0d4db7472e5c"
      },
      "execution_count": 19,
      "outputs": [
        {
          "output_type": "stream",
          "name": "stdout",
          "text": [
            "Val :  [1 4 7] \n",
            "Data type of object :  <class 'numpy.ndarray'> Data type of array elements int64 \n",
            "Shape :  (3,)\n",
            "\n",
            "Val :  [ 1.    3.25  5.5   7.75 10.  ] \n",
            "Data type of object :  <class 'numpy.ndarray'> Data type of array elements float64 \n",
            "Shape :  (5,)\n"
          ]
        }
      ]
    }
  ]
}